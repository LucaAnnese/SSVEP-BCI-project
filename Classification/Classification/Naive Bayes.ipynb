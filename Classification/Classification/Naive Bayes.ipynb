{
 "cells": [
  {
   "cell_type": "code",
   "execution_count": 1,
   "metadata": {},
   "outputs": [],
   "source": [
    "from sklearn.model_selection import train_test_split\n",
    "from sklearn.naive_bayes import GaussianNB\n",
    "from sklearn import svm\n",
    "import pandas as pd\n",
    "import sklearn.model_selection as model_selection\n",
    "from sklearn.metrics import accuracy_score\n",
    "from sklearn.metrics import f1_score\n",
    "from sklearn.svm import SVC\n",
    "from sklearn.metrics import confusion_matrix,classification_report\n",
    "from sklearn.model_selection import cross_val_score, GridSearchCV"
   ]
  },
  {
   "cell_type": "code",
   "execution_count": 2,
   "metadata": {},
   "outputs": [],
   "source": [
    "#multi = pd.read_csv('inputMM_Means.csv')\n",
    "#df = pd.read_csv('inputS_Means.csv')\n",
    "\n",
    "#multi = pd.read_csv('inputMM_PF.csv')\n",
    "#df = pd.read_csv('inputS_PF.csv')\n",
    "\n",
    "multi = pd.read_csv('inputMM_Max.csv')\n",
    "df = pd.read_csv('inputS_Max.csv')"
   ]
  },
  {
   "cell_type": "code",
   "execution_count": 3,
   "metadata": {},
   "outputs": [],
   "source": [
    "#Prepare the input vectors and the output values\n",
    "X = df.drop(['target'], axis=1)\n",
    "y = df['target']\n",
    "\n",
    "X_multi = df.drop(['target'], axis = 1)\n",
    "y_multi = df['target']\n",
    "\n",
    "#Split both dataset into training set and test set\n",
    "\n",
    "X_train, X_test, y_train, y_test = model_selection.train_test_split(X, y, train_size = 0.80, test_size = 0.20, random_state = 101)\n",
    "X_multi_train, X_multi_test, y_multi_train, y_multi_test = model_selection.train_test_split(X_multi, y_multi, train_size = 0.80, test_size = 0.20, random_state = 101)\n",
    "\n",
    "#preprocessing single \n",
    "from sklearn import preprocessing\n",
    "encoder = preprocessing.LabelEncoder()\n",
    "encoder.fit(y_train)\n",
    "y_train = encoder.transform(y_train)\n",
    "encoder.fit(y_test)\n",
    "y_test = encoder.transform(y_test)\n",
    "#multi\n",
    "encoder.fit(y_multi_train)\n",
    "y_multi_train = encoder.transform(y_multi_train)\n",
    "encoder.fit(y_multi_test)\n",
    "y_multi_test = encoder.transform(y_multi_test)"
   ]
  },
  {
   "cell_type": "code",
   "execution_count": 4,
   "metadata": {},
   "outputs": [],
   "source": [
    "gnb = GaussianNB()"
   ]
  },
  {
   "cell_type": "code",
   "execution_count": 5,
   "metadata": {},
   "outputs": [],
   "source": [
    "gnb = gnb.fit(X_train, y_train)\n",
    "gnb = gnb.fit(X_multi_train, y_multi_train)\n",
    "y_pred = gnb.predict(X_multi_test)\n"
   ]
  },
  {
   "cell_type": "code",
   "execution_count": 6,
   "metadata": {},
   "outputs": [
    {
     "data": {
      "text/plain": [
       "(96, 59)"
      ]
     },
     "execution_count": 6,
     "metadata": {},
     "output_type": "execute_result"
    }
   ],
   "source": [
    "X_multi_test.shape[0], (y_multi_test != y_pred).sum()"
   ]
  },
  {
   "cell_type": "code",
   "execution_count": 7,
   "metadata": {},
   "outputs": [
    {
     "data": {
      "text/plain": [
       "38.541666666666664"
      ]
     },
     "execution_count": 7,
     "metadata": {},
     "output_type": "execute_result"
    }
   ],
   "source": [
    "100 - (y_multi_test != y_pred).sum()*100/X_multi_test.shape[0]"
   ]
  },
  {
   "cell_type": "code",
   "execution_count": null,
   "metadata": {},
   "outputs": [],
   "source": []
  },
  {
   "cell_type": "code",
   "execution_count": null,
   "metadata": {},
   "outputs": [],
   "source": []
  },
  {
   "cell_type": "code",
   "execution_count": null,
   "metadata": {},
   "outputs": [],
   "source": []
  },
  {
   "cell_type": "code",
   "execution_count": null,
   "metadata": {},
   "outputs": [],
   "source": []
  }
 ],
 "metadata": {
  "kernelspec": {
   "display_name": "Python 3",
   "language": "python",
   "name": "python3"
  },
  "language_info": {
   "codemirror_mode": {
    "name": "ipython",
    "version": 3
   },
   "file_extension": ".py",
   "mimetype": "text/x-python",
   "name": "python",
   "nbconvert_exporter": "python",
   "pygments_lexer": "ipython3",
   "version": "3.8.5"
  }
 },
 "nbformat": 4,
 "nbformat_minor": 4
}
